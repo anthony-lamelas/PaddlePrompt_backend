{
 "cells": [
  {
   "cell_type": "code",
   "execution_count": 13,
   "metadata": {},
   "outputs": [],
   "source": [
    "import json\n",
    "import re"
   ]
  },
  {
   "cell_type": "code",
   "execution_count": 14,
   "metadata": {},
   "outputs": [],
   "source": [
    "def number_ration(text):\n",
    "    numbers = re.findall(r'\\d+\\.?\\d*', text)\n",
    "    return len(numbers) / max(len(text.split()), 1) # in case it is empty (no ZDE)"
   ]
  },
  {
   "cell_type": "code",
   "execution_count": 15,
   "metadata": {},
   "outputs": [],
   "source": [
    "def is_layout_like(text):\n",
    "    lines = text.splitlines()\n",
    "    centered_lines = [line for line in lines if line.strip() and line.strip() == line.center(len(line.strip()))]\n",
    "    return len(centered_lines) > 3"
   ]
  },
  {
   "cell_type": "code",
   "execution_count": 16,
   "metadata": {},
   "outputs": [],
   "source": [
    "def is_bad_entry(entry):\n",
    "    output = entry[\"output\"].strip()\n",
    "\n",
    "    if len(output.split()) < 50:\n",
    "        return True\n",
    "    \n",
    "    if number_ration(output) > 0.2:\n",
    "        return True\n",
    "    \n",
    "    if is_layout_like(output):\n",
    "        return True\n",
    "    \n",
    "    return False"
   ]
  },
  {
   "cell_type": "code",
   "execution_count": 17,
   "metadata": {},
   "outputs": [
    {
     "name": "stdout",
     "output_type": "stream",
     "text": [
      "Kept 3013 entries, skipped 6132 bad ones.\n"
     ]
    }
   ],
   "source": [
    "input = \"RAW_DATA.jsonl\"\n",
    "output = \"CLEAN_DATA.jsonl\"\n",
    "\n",
    "kept = 0\n",
    "skipped = 0\n",
    "\n",
    "with open(input, \"r\", encoding=\"utf-8\") as infile, open(output, \"w\", encoding=\"utf-8\") as outfile:\n",
    "    for line in infile:\n",
    "        try:\n",
    "            entry = json.loads(line)\n",
    "            if not is_bad_entry(entry):\n",
    "                outfile.write(json.dumps(entry) + \"\\n\")\n",
    "                kept += 1\n",
    "            else:\n",
    "                skipped += 1\n",
    "        except Exception as e:\n",
    "            print(f\"Error processing line: {e}\")\n",
    "            skipped += 1\n",
    "\n",
    "print(f\"Kept {kept} entries, skipped {skipped} bad ones.\")"
   ]
  }
 ],
 "metadata": {
  "kernelspec": {
   "display_name": "AirScope",
   "language": "python",
   "name": "python3"
  },
  "language_info": {
   "codemirror_mode": {
    "name": "ipython",
    "version": 3
   },
   "file_extension": ".py",
   "mimetype": "text/x-python",
   "name": "python",
   "nbconvert_exporter": "python",
   "pygments_lexer": "ipython3",
   "version": "3.12.8"
  }
 },
 "nbformat": 4,
 "nbformat_minor": 2
}
