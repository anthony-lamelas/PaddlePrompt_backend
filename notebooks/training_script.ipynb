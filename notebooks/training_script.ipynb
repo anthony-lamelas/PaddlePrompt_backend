{
 "cells": [
  {
   "cell_type": "code",
   "execution_count": 89,
   "metadata": {},
   "outputs": [],
   "source": [
    "import json\n",
    "import fitz\n",
    "import re #library for regex\n",
    "import os\n",
    "from tqdm import tqdm"
   ]
  },
  {
   "cell_type": "code",
   "execution_count": 90,
   "metadata": {},
   "outputs": [],
   "source": [
    "Sections = {\"Executive Summary\" : r\"(?i)\\bExecutive Summary\\b\",\n",
    "            \"Project and Quality Management\" : r\"(?i)\\bProject Management|Project and Quality Management|Quality Management\\b\",\n",
    "            \"Hull Design and Structural Analysis\" : r\"(?i)\\bHull Design|Analysis|Hull Design and Structural Analysis|Structural Analysis\\b\",\n",
    "            \"Development and Testing\" : r\"(?i)\\bDevelopment and Testing|Development|Testing\\b\",\n",
    "            \"Construction\" : r\"(?i)\\bConstruction\\b\"\n",
    "            }\n",
    "\n",
    "Prompts = {\"Executive Summary\": \"Write the executive summary for an ASCE Concrete Canoe Competition.\",\n",
    "           \"Project and Quality Management\": \"Write the project management section for an ASCE Concrete Canoe Competition.\",\n",
    "           \"Hull Design and Structural Analysis\" : \"Write the hull design and structural analysis section for an ASCE Concrete Canoe Competition.\",\n",
    "           \"Development and Testing\" : \"Write the development and testing section for an ASCE Concrete Canoe Competition.\",\n",
    "           \"Construction\" : \"Write the construction section for an ASCE Concrete Canoe Competition.\"\n",
    "           }"
   ]
  },
  {
   "cell_type": "code",
   "execution_count": 91,
   "metadata": {},
   "outputs": [],
   "source": [
    "def pdf_to_text(path):\n",
    "    doc = fitz.open(path)\n",
    "    full_text = \"\"\n",
    "    for page in doc:\n",
    "        full_text += page.get_text()\n",
    "    return full_text"
   ]
  },
  {
   "cell_type": "code",
   "execution_count": 92,
   "metadata": {},
   "outputs": [],
   "source": [
    "def extract_text(text, sections):\n",
    "    # re.match checks if the beginning of text matches the regex pattern\n",
    "    # re.finditer returns an iterator giving match objects for all matches\n",
    "\n",
    "    extracted = []\n",
    "    pattern = '(?i)' + '|'.join(val.lstrip(\"(?i)\") for val in sections.values())  # move (?i) to the front\n",
    "    matches = list(re.finditer(pattern, text))\n",
    "\n",
    "    for i, match in enumerate(matches):\n",
    "        section_name = next(key for key, val in sections.items() if re.match(val, match.group()))\n",
    "\n",
    "        start = match.end()\n",
    "        end = matches[i + 1].start() if i + 1 < len(matches) else len(text)\n",
    "\n",
    "        section_text = text[start:end].strip()\n",
    "\n",
    "        if section_text:\n",
    "            extracted.append((section_name, section_text))\n",
    "     \n",
    "    return extracted"
   ]
  },
  {
   "cell_type": "code",
   "execution_count": 93,
   "metadata": {},
   "outputs": [],
   "source": [
    "def build_json(pdf_dir, output_json):\n",
    "    with open(output_json, 'w') as outfile:\n",
    "        \n",
    "        for filename in tqdm(os.listdir(pdf_dir)):\n",
    "            if not filename.endswith(\".pdf\"):\n",
    "                continue\n",
    "            \n",
    "            try:\n",
    "                path = os.path.join(pdf_dir, filename)\n",
    "                raw_text = pdf_to_text(path)\n",
    "                section_entries = extract_text(raw_text, Sections)\n",
    "\n",
    "                for section, content in section_entries:\n",
    "                    if len(content.strip()) < 50:\n",
    "                        continue\n",
    "\n",
    "                    entry = {\n",
    "                        \"system\": \"You are a helpful assistant that writes proposals for the ASCE Concrete Canoe Competition.\",\n",
    "                        \"prompt\": Prompts[section],\n",
    "                        \"output\": content.strip()\n",
    "                    }\n",
    "\n",
    "                    outfile.write(json.dumps(entry) + \"\\n\")\n",
    "\n",
    "            except Exception as e:\n",
    "                print(f\"Error processing {filename}: {e}\")"
   ]
  },
  {
   "cell_type": "code",
   "execution_count": 94,
   "metadata": {},
   "outputs": [],
   "source": [
    "# print(pdf_to_text(\"./pdfs/2010-UAH.pdf\"))"
   ]
  },
  {
   "cell_type": "code",
   "execution_count": 95,
   "metadata": {},
   "outputs": [],
   "source": [
    "# text = pdf_to_text(\"./pdfs/2010-UAH.pdf\")\n",
    "# sections = extract_text(text, Sections)  \n",
    "\n",
    "# for i, (section_name, content) in enumerate(sections):\n",
    "#     print(\"=\" * 80)\n",
    "#     print(f\"SECTION: {section_name.upper()} (#{i+1})\")\n",
    "#     print(\"=\" * 80)\n",
    "#     print(content)\n",
    "#     print(\"\\n\\n\")"
   ]
  },
  {
   "cell_type": "code",
   "execution_count": 96,
   "metadata": {},
   "outputs": [
    {
     "name": "stderr",
     "output_type": "stream",
     "text": [
      " 15%|█▍        | 23/155 [00:08<00:47,  2.78it/s]"
     ]
    },
    {
     "name": "stdout",
     "output_type": "stream",
     "text": [
      "Error processing #2 Virginia Polytechnic Institute and State University - Apex Predator - Project Proposal - 2024 - Society-Wide.pdf: Cannot open empty file: filename='./pdfs\\\\#2 Virginia Polytechnic Institute and State University - Apex Predator - Project Proposal - 2024 - Society-Wide.pdf'.\n"
     ]
    },
    {
     "name": "stderr",
     "output_type": "stream",
     "text": [
      " 21%|██        | 32/155 [00:11<00:41,  2.99it/s]"
     ]
    },
    {
     "name": "stdout",
     "output_type": "stream",
     "text": [
      "Error processing #4 California Polytechnic State University, San Luis Obispo Project Proposal - 2024 Nationals.pdf: Cannot open empty file: filename='./pdfs\\\\#4 California Polytechnic State University, San Luis Obispo Project Proposal - 2024 Nationals.pdf'.\n"
     ]
    },
    {
     "name": "stderr",
     "output_type": "stream",
     "text": [
      " 66%|██████▌   | 102/155 [00:50<00:11,  4.78it/s]"
     ]
    },
    {
     "name": "stdout",
     "output_type": "stream",
     "text": [
      "MuPDF error: format error: No default Layer config\n",
      "\n"
     ]
    },
    {
     "name": "stderr",
     "output_type": "stream",
     "text": [
      " 99%|█████████▉| 154/155 [01:33<00:00,  2.11it/s]"
     ]
    },
    {
     "name": "stdout",
     "output_type": "stream",
     "text": [
      "MuPDF error: format error: cannot find object in xref (292 0 R)\n",
      "\n"
     ]
    },
    {
     "name": "stderr",
     "output_type": "stream",
     "text": [
      "100%|██████████| 155/155 [01:33<00:00,  1.65it/s]\n"
     ]
    }
   ],
   "source": [
    "pdf_dir = \"./pdfs\"\n",
    "output_path = \"RAW_DATA.jsonl\"\n",
    "\n",
    "build_json(pdf_dir, output_path)"
   ]
  }
 ],
 "metadata": {
  "kernelspec": {
   "display_name": "AirScope",
   "language": "python",
   "name": "python3"
  },
  "language_info": {
   "codemirror_mode": {
    "name": "ipython",
    "version": 3
   },
   "file_extension": ".py",
   "mimetype": "text/x-python",
   "name": "python",
   "nbconvert_exporter": "python",
   "pygments_lexer": "ipython3",
   "version": "3.12.8"
  }
 },
 "nbformat": 4,
 "nbformat_minor": 2
}
